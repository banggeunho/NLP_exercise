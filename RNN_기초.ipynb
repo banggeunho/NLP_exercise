{
  "nbformat": 4,
  "nbformat_minor": 0,
  "metadata": {
    "colab": {
      "name": "RNN.ipynb",
      "provenance": [],
      "authorship_tag": "ABX9TyOLE+pfHDuUZmKAKcsaD2oa",
      "include_colab_link": true
    },
    "kernelspec": {
      "name": "python3",
      "display_name": "Python 3"
    },
    "language_info": {
      "name": "python"
    }
  },
  "cells": [
    {
      "cell_type": "markdown",
      "metadata": {
        "id": "view-in-github",
        "colab_type": "text"
      },
      "source": [
        "<a href=\"https://colab.research.google.com/github/banggeunho/nlp_exercise/blob/master/RNN_%EA%B8%B0%EC%B4%88.ipynb\" target=\"_parent\"><img src=\"https://colab.research.google.com/assets/colab-badge.svg\" alt=\"Open In Colab\"/></a>"
      ]
    },
    {
      "cell_type": "code",
      "execution_count": 5,
      "metadata": {
        "id": "Oq3ubb0yB4cV"
      },
      "outputs": [],
      "source": [
        "import numpy as np\n",
        "\n",
        "timesteps = 10\n",
        "input_size = 4\n",
        "hidden_size = 8\n",
        "\n",
        "inputs = np.random.random((timesteps, input_size))\n",
        "hidden_state_t = np.zeros((hidden_size,))\n",
        "\n",
        "Wx = np.random.random((hidden_size, input_size))  # (8, 4)크기의 2D 텐서 생성. 입력에 대한 가중치.\n",
        "Wh = np.random.random((hidden_size, hidden_size)) # (8, 8)크기의 2D 텐서 생성. 은닉 상태에 대한 가중치.\n",
        "b = np.random.random((hidden_size,)) # (8,)크기의 1D 텐서 생성. 이 값은 편향(bias)."
      ]
    },
    {
      "cell_type": "code",
      "source": [
        "total_hidden_states = []\n",
        "\n",
        "# 메모리 셀 동작\n",
        "for input_t in inputs: # 각 시점에 따라서 입력값이 입력됨.\n",
        "  output_t = np.tanh(np.dot(Wx,input_t) + np.dot(Wh,hidden_state_t) + b) # Wx * Xt + Wh * Ht-1 + b(bias)\n",
        "  total_hidden_states.append(list(output_t)) # 각 시점의 은닉 상태의 값을 계속해서 축적\n",
        "  print(np.shape(total_hidden_states)) # 각 시점 t별 메모리 셀의 출력의 크기는 (timestep, output_dim)\n",
        "  hidden_state_t = output_t\n",
        "\n",
        "total_hidden_states = np.stack(total_hidden_states, axis = 0) \n",
        "# 출력 시 값을 깔끔하게 해준다.\n",
        "\n",
        "print(total_hidden_states) # (timesteps, output_dim)의 크기. 이 경우 (10, 8)의 크기를 가지는 메모리 셀의 2D 텐서를 출력."
      ],
      "metadata": {
        "colab": {
          "base_uri": "https://localhost:8080/"
        },
        "id": "Q0qbUSjuEbFl",
        "outputId": "b0e48344-876a-4aec-f2c2-90bc12a109b6"
      },
      "execution_count": 6,
      "outputs": [
        {
          "output_type": "stream",
          "name": "stdout",
          "text": [
            "(1, 8)\n",
            "(2, 8)\n",
            "(3, 8)\n",
            "(4, 8)\n",
            "(5, 8)\n",
            "(6, 8)\n",
            "(7, 8)\n",
            "(8, 8)\n",
            "(9, 8)\n",
            "(10, 8)\n",
            "[[0.65561297 0.84275573 0.83057582 0.83452184 0.77428007 0.92567259\n",
            "  0.9509507  0.8972495 ]\n",
            " [0.99956128 0.999925   0.9995511  0.99960121 0.998677   0.99997235\n",
            "  0.99939961 0.9996033 ]\n",
            " [0.99977542 0.9999859  0.99961851 0.99988648 0.99961383 0.99999868\n",
            "  0.99970739 0.99987852]\n",
            " [0.99991334 0.99998795 0.99990314 0.99991275 0.99971272 0.99999761\n",
            "  0.99989494 0.99995045]\n",
            " [0.99987941 0.99998653 0.99980545 0.99987774 0.99961785 0.9999975\n",
            "  0.99978182 0.99992702]\n",
            " [0.99969581 0.99996801 0.99977969 0.99975514 0.99919537 0.99999488\n",
            "  0.99954358 0.99960519]\n",
            " [0.99987494 0.9999917  0.99988101 0.99995783 0.99978705 0.99999911\n",
            "  0.99987929 0.99990375]\n",
            " [0.99954254 0.99996756 0.9995888  0.99974687 0.99916533 0.99999664\n",
            "  0.9993776  0.99949622]\n",
            " [0.99984117 0.99998426 0.99982714 0.99987855 0.99954133 0.99999713\n",
            "  0.99970335 0.9998361 ]\n",
            " [0.99986253 0.99999155 0.99982674 0.99995455 0.99981776 0.99999939\n",
            "  0.99991649 0.99994877]]\n"
          ]
        }
      ]
    },
    {
      "cell_type": "code",
      "source": [
        "import torch\n",
        "import torch.nn as nn"
      ],
      "metadata": {
        "id": "hDPovERAFIFw"
      },
      "execution_count": 7,
      "outputs": []
    },
    {
      "cell_type": "code",
      "source": [
        "input_size = 5 # 입력의 크기\n",
        "hidden_size = 8 # 은닉 상태의 크기"
      ],
      "metadata": {
        "id": "eU5_01KnFJTJ"
      },
      "execution_count": 8,
      "outputs": []
    },
    {
      "cell_type": "code",
      "source": [
        "# (batch_size, time_steps, input_size)\n",
        "inputs = torch.Tensor(1, 10, 5)\n",
        "cell = nn.RNN(input_size, hidden_size, batch_first=True)\n",
        "outputs, _status = cell(inputs)\n",
        "print(outputs.shape) # 모든 time-step의 hidden_state\n",
        "print(_status.shape) # 최종 time-step의 hidden_state"
      ],
      "metadata": {
        "colab": {
          "base_uri": "https://localhost:8080/"
        },
        "id": "7C-ThV4YFKus",
        "outputId": "11985007-b2e9-460f-8a77-414382de96c8"
      },
      "execution_count": 10,
      "outputs": [
        {
          "output_type": "stream",
          "name": "stdout",
          "text": [
            "torch.Size([1, 10, 8])\n",
            "torch.Size([1, 1, 8])\n"
          ]
        }
      ]
    },
    {
      "cell_type": "code",
      "source": [
        "cell = nn.RNN(input_size = 5, hidden_size = 8, num_layers = 2, batch_first=True)\n",
        "outputs, _status = cell(inputs)\n",
        "print(outputs.shape) # 모든 time-step의 hidden_state\n",
        "print(_status.shape) # (층의 개수, 배치 크기, 은닉 상태의 크기)"
      ],
      "metadata": {
        "colab": {
          "base_uri": "https://localhost:8080/"
        },
        "id": "dX0jl-XuF5RJ",
        "outputId": "52b8f98f-9cb0-46e1-8ac7-788bb0d7342e"
      },
      "execution_count": 12,
      "outputs": [
        {
          "output_type": "stream",
          "name": "stdout",
          "text": [
            "torch.Size([1, 10, 8])\n",
            "torch.Size([2, 1, 8])\n"
          ]
        }
      ]
    },
    {
      "cell_type": "code",
      "source": [
        "cell = nn.RNN(input_size = 5, hidden_size = 8, num_layers = 2, batch_first=True, bidirectional = True)\n",
        "outputs, _status = cell(inputs)\n",
        "print(outputs.shape) # (배치 크기, 시퀀스 길이, 은닉 상태의 크기 x 2)\n",
        "print(_status.shape) # (층의 개수 x 2, 배치 크기, 은닉 상태의 크기)"
      ],
      "metadata": {
        "colab": {
          "base_uri": "https://localhost:8080/"
        },
        "id": "yEhmNGXBI28U",
        "outputId": "41ee5abb-ef80-4d12-f6c7-5416504b7976"
      },
      "execution_count": 14,
      "outputs": [
        {
          "output_type": "stream",
          "name": "stdout",
          "text": [
            "torch.Size([1, 10, 16])\n",
            "torch.Size([4, 1, 8])\n"
          ]
        }
      ]
    }
  ]
}